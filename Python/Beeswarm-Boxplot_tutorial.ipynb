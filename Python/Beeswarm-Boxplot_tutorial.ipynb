{
 "cells": [
  {
   "cell_type": "code",
   "execution_count": 1,
   "metadata": {},
   "outputs": [],
   "source": [
    "import pandas as pd\n",
    "import seaborn as sns\n",
    "import matplotlib.pyplot as plt\n",
    "import os\n",
    "import numpy as np"
   ]
  },
  {
   "cell_type": "code",
   "execution_count": 2,
   "metadata": {},
   "outputs": [
    {
     "data": {
      "text/html": [
       "<div>\n",
       "<style scoped>\n",
       "    .dataframe tbody tr th:only-of-type {\n",
       "        vertical-align: middle;\n",
       "    }\n",
       "\n",
       "    .dataframe tbody tr th {\n",
       "        vertical-align: top;\n",
       "    }\n",
       "\n",
       "    .dataframe thead th {\n",
       "        text-align: right;\n",
       "    }\n",
       "</style>\n",
       "<table border=\"1\" class=\"dataframe\">\n",
       "  <thead>\n",
       "    <tr style=\"text-align: right;\">\n",
       "      <th></th>\n",
       "      <th>G1/S</th>\n",
       "      <th>G2</th>\n",
       "    </tr>\n",
       "  </thead>\n",
       "  <tbody>\n",
       "    <tr>\n",
       "      <th>0</th>\n",
       "      <td>121.247953</td>\n",
       "      <td>135.746870</td>\n",
       "    </tr>\n",
       "    <tr>\n",
       "      <th>1</th>\n",
       "      <td>112.967864</td>\n",
       "      <td>144.489362</td>\n",
       "    </tr>\n",
       "    <tr>\n",
       "      <th>2</th>\n",
       "      <td>111.011501</td>\n",
       "      <td>152.863802</td>\n",
       "    </tr>\n",
       "    <tr>\n",
       "      <th>3</th>\n",
       "      <td>105.088242</td>\n",
       "      <td>108.354958</td>\n",
       "    </tr>\n",
       "    <tr>\n",
       "      <th>4</th>\n",
       "      <td>93.851605</td>\n",
       "      <td>135.358014</td>\n",
       "    </tr>\n",
       "    <tr>\n",
       "      <th>...</th>\n",
       "      <td>...</td>\n",
       "      <td>...</td>\n",
       "    </tr>\n",
       "    <tr>\n",
       "      <th>99</th>\n",
       "      <td>113.765582</td>\n",
       "      <td>NaN</td>\n",
       "    </tr>\n",
       "    <tr>\n",
       "      <th>100</th>\n",
       "      <td>123.369826</td>\n",
       "      <td>NaN</td>\n",
       "    </tr>\n",
       "    <tr>\n",
       "      <th>101</th>\n",
       "      <td>145.883048</td>\n",
       "      <td>NaN</td>\n",
       "    </tr>\n",
       "    <tr>\n",
       "      <th>102</th>\n",
       "      <td>130.506395</td>\n",
       "      <td>NaN</td>\n",
       "    </tr>\n",
       "    <tr>\n",
       "      <th>103</th>\n",
       "      <td>138.939517</td>\n",
       "      <td>NaN</td>\n",
       "    </tr>\n",
       "  </tbody>\n",
       "</table>\n",
       "<p>104 rows × 2 columns</p>\n",
       "</div>"
      ],
      "text/plain": [
       "           G1/S          G2\n",
       "0    121.247953  135.746870\n",
       "1    112.967864  144.489362\n",
       "2    111.011501  152.863802\n",
       "3    105.088242  108.354958\n",
       "4     93.851605  135.358014\n",
       "..          ...         ...\n",
       "99   113.765582         NaN\n",
       "100  123.369826         NaN\n",
       "101  145.883048         NaN\n",
       "102  130.506395         NaN\n",
       "103  138.939517         NaN\n",
       "\n",
       "[104 rows x 2 columns]"
      ]
     },
     "execution_count": 2,
     "metadata": {},
     "output_type": "execute_result"
    }
   ],
   "source": [
    "# set directory and file names\n",
    "dir = \"C:/Users/xxxx/xxxx/\" # change to your directory where the data file is\n",
    "file1 = \"Hoechst_mean.csv\" # import file name\n",
    "file2 = \"plot.pdf\" # export file name\n",
    "\n",
    "# import CSV file as dataframe\n",
    "df = pd.read_csv(os.path.join(dir, file1)) # os.path.join is a convenient function to hundle directories\n",
    "\n",
    "# show imported dataframe\n",
    "df"
   ]
  },
  {
   "cell_type": "code",
   "execution_count": 3,
   "metadata": {},
   "outputs": [
    {
     "name": "stdout",
     "output_type": "stream",
     "text": [
      "[114.41918556961538, 137.82370526483516]\n"
     ]
    }
   ],
   "source": [
    "# calculate mean values\n",
    "mean_G1S = np.mean(df[\"G1/S\"])\n",
    "mean_G2 = np.mean(df[\"G2\"])\n",
    "\n",
    "# list the values\n",
    "lst_mean = [mean_G1S, mean_G2]\n",
    "print(lst_mean)"
   ]
  },
  {
   "cell_type": "code",
   "execution_count": 4,
   "metadata": {},
   "outputs": [
    {
     "data": {
      "text/html": [
       "<div>\n",
       "<style scoped>\n",
       "    .dataframe tbody tr th:only-of-type {\n",
       "        vertical-align: middle;\n",
       "    }\n",
       "\n",
       "    .dataframe tbody tr th {\n",
       "        vertical-align: top;\n",
       "    }\n",
       "\n",
       "    .dataframe thead th {\n",
       "        text-align: right;\n",
       "    }\n",
       "</style>\n",
       "<table border=\"1\" class=\"dataframe\">\n",
       "  <thead>\n",
       "    <tr style=\"text-align: right;\">\n",
       "      <th></th>\n",
       "      <th>0</th>\n",
       "    </tr>\n",
       "  </thead>\n",
       "  <tbody>\n",
       "    <tr>\n",
       "      <th>0</th>\n",
       "      <td>114.419186</td>\n",
       "    </tr>\n",
       "    <tr>\n",
       "      <th>1</th>\n",
       "      <td>137.823705</td>\n",
       "    </tr>\n",
       "  </tbody>\n",
       "</table>\n",
       "</div>"
      ],
      "text/plain": [
       "            0\n",
       "0  114.419186\n",
       "1  137.823705"
      ]
     },
     "execution_count": 4,
     "metadata": {},
     "output_type": "execute_result"
    }
   ],
   "source": [
    "# convert the list to dataframe\n",
    "df_mean = pd.DataFrame(lst_mean)\n",
    "\n",
    "# show dataframe\n",
    "df_mean"
   ]
  },
  {
   "cell_type": "code",
   "execution_count": 5,
   "metadata": {},
   "outputs": [
    {
     "data": {
      "text/html": [
       "<div>\n",
       "<style scoped>\n",
       "    .dataframe tbody tr th:only-of-type {\n",
       "        vertical-align: middle;\n",
       "    }\n",
       "\n",
       "    .dataframe tbody tr th {\n",
       "        vertical-align: top;\n",
       "    }\n",
       "\n",
       "    .dataframe thead th {\n",
       "        text-align: right;\n",
       "    }\n",
       "</style>\n",
       "<table border=\"1\" class=\"dataframe\">\n",
       "  <thead>\n",
       "    <tr style=\"text-align: right;\">\n",
       "      <th></th>\n",
       "      <th>0</th>\n",
       "      <th>1</th>\n",
       "    </tr>\n",
       "  </thead>\n",
       "  <tbody>\n",
       "    <tr>\n",
       "      <th>0</th>\n",
       "      <td>114.419186</td>\n",
       "      <td>137.823705</td>\n",
       "    </tr>\n",
       "  </tbody>\n",
       "</table>\n",
       "</div>"
      ],
      "text/plain": [
       "            0           1\n",
       "0  114.419186  137.823705"
      ]
     },
     "execution_count": 5,
     "metadata": {},
     "output_type": "execute_result"
    }
   ],
   "source": [
    "# transpose raws and columns \n",
    "df_mean = df_mean.T\n",
    "\n",
    "# show dataframe\n",
    "df_mean"
   ]
  },
  {
   "cell_type": "code",
   "execution_count": 6,
   "metadata": {},
   "outputs": [
    {
     "data": {
      "text/html": [
       "<div>\n",
       "<style scoped>\n",
       "    .dataframe tbody tr th:only-of-type {\n",
       "        vertical-align: middle;\n",
       "    }\n",
       "\n",
       "    .dataframe tbody tr th {\n",
       "        vertical-align: top;\n",
       "    }\n",
       "\n",
       "    .dataframe thead th {\n",
       "        text-align: right;\n",
       "    }\n",
       "</style>\n",
       "<table border=\"1\" class=\"dataframe\">\n",
       "  <thead>\n",
       "    <tr style=\"text-align: right;\">\n",
       "      <th></th>\n",
       "      <th>G1/S</th>\n",
       "      <th>G2</th>\n",
       "    </tr>\n",
       "  </thead>\n",
       "  <tbody>\n",
       "    <tr>\n",
       "      <th>0</th>\n",
       "      <td>114.419186</td>\n",
       "      <td>137.823705</td>\n",
       "    </tr>\n",
       "  </tbody>\n",
       "</table>\n",
       "</div>"
      ],
      "text/plain": [
       "         G1/S          G2\n",
       "0  114.419186  137.823705"
      ]
     },
     "execution_count": 6,
     "metadata": {},
     "output_type": "execute_result"
    }
   ],
   "source": [
    "# set column labels\n",
    "df_mean.columns = [\"G1/S\", \"G2\"]\n",
    "\n",
    "# show dataframe\n",
    "df_mean"
   ]
  },
  {
   "cell_type": "code",
   "execution_count": 7,
   "metadata": {},
   "outputs": [
    {
     "data": {
      "text/html": [
       "<div>\n",
       "<style scoped>\n",
       "    .dataframe tbody tr th:only-of-type {\n",
       "        vertical-align: middle;\n",
       "    }\n",
       "\n",
       "    .dataframe tbody tr th {\n",
       "        vertical-align: top;\n",
       "    }\n",
       "\n",
       "    .dataframe thead th {\n",
       "        text-align: right;\n",
       "    }\n",
       "</style>\n",
       "<table border=\"1\" class=\"dataframe\">\n",
       "  <thead>\n",
       "    <tr style=\"text-align: right;\">\n",
       "      <th></th>\n",
       "      <th>G1/S</th>\n",
       "      <th>G2</th>\n",
       "    </tr>\n",
       "  </thead>\n",
       "  <tbody>\n",
       "    <tr>\n",
       "      <th>0</th>\n",
       "      <td>114.419186</td>\n",
       "      <td>137.823705</td>\n",
       "    </tr>\n",
       "  </tbody>\n",
       "</table>\n",
       "</div>"
      ],
      "text/plain": [
       "         G1/S          G2\n",
       "0  114.419186  137.823705"
      ]
     },
     "execution_count": 7,
     "metadata": {},
     "output_type": "execute_result"
    }
   ],
   "source": [
    "# you can directly make dataframe\n",
    "df_mean = pd.DataFrame([[mean_G1S, mean_G2]], columns = [\"G1/S\", \"G2\"])\n",
    "df_mean"
   ]
  },
  {
   "cell_type": "code",
   "execution_count": 8,
   "metadata": {},
   "outputs": [
    {
     "data": {
      "image/png": "[encoded data removed]",
      "text/plain": [
       "<Figure size 400x400 with 1 Axes>"
      ]
     },
     "metadata": {},
     "output_type": "display_data"
    }
   ],
   "source": [
    "# plot data\n",
    "sns.set_style(\"whitegrid\")\n",
    "plt.figure(figsize=(4,4))\n",
    "plt.tick_params(labelsize = 14)\n",
    "plt.tight_layout()\n",
    "plt.xlabel(\"Cell Cycle Phase\", fontsize = 14)\n",
    "plt.ylabel(\"Mean Hoechst Intensity (AU)\", fontsize = 14)\n",
    "sns.boxplot(data = df, palette = [(.9, .9, 1), (.9, .9, 1)], sym = \"\", width = .6)\n",
    "sns.swarmplot(data = df, palette = [\".3\", \".3\"], size = 3)\n",
    "sns.pointplot(data = df_mean, markers = \"X\", palette = [\"Magenta\", \"Magenta\"], join = False)\n",
    "plt.ylim(0,255)\n",
    "\n",
    "# save plot as PDF; comment out if you don't want to save\n",
    "#plt.savefig(os.path.join(dir, file2), bbox_inches=\"tight\")\n",
    "\n",
    "plt.show()"
   ]
  },
  {
   "cell_type": "code",
   "execution_count": 9,
   "metadata": {},
   "outputs": [
    {
     "data": {
      "image/png": "[encoded data removed]",
      "text/plain": [
       "<Figure size 400x400 with 1 Axes>"
      ]
     },
     "metadata": {},
     "output_type": "display_data"
    }
   ],
   "source": [
    "# you can play around with color and other settings\n",
    "sns.set_style(\"whitegrid\")\n",
    "plt.figure(figsize=(4,4))\n",
    "plt.tick_params(labelsize = 14)\n",
    "plt.tight_layout()\n",
    "plt.xlabel(\"Cell Cycle Phase\", fontsize = 14)\n",
    "plt.ylabel(\"Mean Hoechst Intensity (AU)\", fontsize = 14)\n",
    "sns.boxplot(data = df, palette = [\"lightcyan\", \"bisque\"], sym = \"\", width = .6)\n",
    "sns.swarmplot(data = df, palette = [(.5, .5, 1, .7), (1, .5, .5, .7)], size = 3)\n",
    "sns.pointplot(data = df_mean, markers = \"s\", palette = [\"crimson\", \"crimson\"], join = False)\n",
    "plt.ylim(0,255)\n",
    "\n",
    "# save plot as PDF; comment out if you don't want to save\n",
    "#plt.savefig(os.path.join(dir, file2), bbox_inches=\"tight\")\n",
    "\n",
    "plt.show()"
   ]
  },
  {
   "cell_type": "code",
   "execution_count": null,
   "metadata": {},
   "outputs": [],
   "source": [
    "# can you draw violin plots and strip plots?"
   ]
  }
 ],
 "metadata": {
  "kernelspec": {
   "display_name": "Python 3 (ipykernel)",
   "language": "python",
   "name": "python3"
  },
  "language_info": {
   "codemirror_mode": {
    "name": "ipython",
    "version": 3
   },
   "file_extension": ".py",
   "mimetype": "text/x-python",
   "name": "python",
   "nbconvert_exporter": "python",
   "pygments_lexer": "ipython3",
   "version": "3.9.15"
  },
  "vscode": {
   "interpreter": {
    "hash": "07a88974109bcd6e4c03f58a9ae3e2ad56e60de170f26a4bfd68b0f693706edb"
   }
  }
 },
 "nbformat": 4,
 "nbformat_minor": 4
}
